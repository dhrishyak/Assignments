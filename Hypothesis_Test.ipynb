{
  "nbformat": 4,
  "nbformat_minor": 0,
  "metadata": {
    "colab": {
      "provenance": []
    },
    "kernelspec": {
      "name": "python3",
      "display_name": "Python 3"
    },
    "language_info": {
      "name": "python"
    }
  },
  "cells": [
    {
      "cell_type": "markdown",
      "source": [
        "# HYPOTHESIS TESTING"
      ],
      "metadata": {
        "id": "gjt5svLk58p-"
      }
    },
    {
      "cell_type": "markdown",
      "source": [
        "## 1.State the Hypotheses Statement:\n",
        "\n",
        "Hypothesis testing is a statistical method that is used in making statistical decisions using experimental data.Hypothesis testing is basically an assumption that we make about the population parameter.\n",
        "\n",
        "--> Null Hypothesis(H0):Argument made so far,or hypothesis saying that there is no change or difference.\n",
        "\n",
        "--> Alternative Hypothesis(H1):New argument,that is a hypothesis that you want to prove with solid ground obtained from sample."
      ],
      "metadata": {
        "id": "yCdTeGWB6Ez8"
      }
    },
    {
      "cell_type": "markdown",
      "source": [],
      "metadata": {
        "id": "zdGPApKk_s69"
      }
    },
    {
      "cell_type": "markdown",
      "source": [
        "### 2.Calculate the  Test Statistic:\n"
      ],
      "metadata": {
        "id": "5oMomgpi7Yg9"
      }
    },
    {
      "cell_type": "code",
      "source": [
        "import numpy as np\n",
        "from scipy.stats import t"
      ],
      "metadata": {
        "id": "KSOAjgmi8GON"
      },
      "execution_count": 1,
      "outputs": []
    },
    {
      "cell_type": "code",
      "source": [
        "x_bar = 3050\n",
        "mu = 1000 +5 * 600\n",
        "sigma = 5*25\n",
        "n = 25\n",
        "\n",
        "t_statistic = (x_bar -mu)/(sigma / np.sqrt(n))\n",
        "t_statistic"
      ],
      "metadata": {
        "colab": {
          "base_uri": "https://localhost:8080/"
        },
        "id": "ji0JBF-F8GQn",
        "outputId": "f67da168-2a29-4387-bcb5-063c8140c4b8"
      },
      "execution_count": 2,
      "outputs": [
        {
          "output_type": "execute_result",
          "data": {
            "text/plain": [
              "-38.0"
            ]
          },
          "metadata": {},
          "execution_count": 2
        }
      ]
    },
    {
      "cell_type": "markdown",
      "source": [
        "where:\n",
        "\n",
        ".x_bar = sample mean weekly cost(Rs.3,050)\n",
        "\n",
        ".mu = theoretical mean weekly cost according to the cost model(w = 1000+5x for x = 600 units)\n",
        "\n",
        ".sigma = 5*25 units\n",
        "\n",
        ".n = sample size(25 restaurants)"
      ],
      "metadata": {
        "id": "aFx-3CEJ8oio"
      }
    },
    {
      "cell_type": "markdown",
      "source": [
        "### 3.Determine the Critical Value"
      ],
      "metadata": {
        "id": "NM8zAHkl9glV"
      }
    },
    {
      "cell_type": "markdown",
      "source": [
        "Using the alpha level of 5% (α = 0.05),determine the critical value from the standarad normal(Z) distribution table."
      ],
      "metadata": {
        "id": "r0k_CnjK9qTI"
      }
    },
    {
      "cell_type": "code",
      "source": [
        "alpha = 0.05    #significance level\n",
        "df = n-1        # Degrees of freedom (df)=sample size - 1\n",
        "critical_value = t.ppf(1-alpha,df)\n",
        "critical_value"
      ],
      "metadata": {
        "colab": {
          "base_uri": "https://localhost:8080/"
        },
        "id": "SSnu89gU8GUJ",
        "outputId": "d18dd5c9-ebe5-4743-cd3b-8e6eb4839259"
      },
      "execution_count": 3,
      "outputs": [
        {
          "output_type": "execute_result",
          "data": {
            "text/plain": [
              "1.7108820799094275"
            ]
          },
          "metadata": {},
          "execution_count": 3
        }
      ]
    },
    {
      "cell_type": "markdown",
      "source": [
        "###4. Make a Decision:\n"
      ],
      "metadata": {
        "id": "WYPlcBIX-bX1"
      }
    },
    {
      "cell_type": "code",
      "source": [
        "if t_statistic > critical_value:\n",
        "  print(\"Reject the null hypothesis\")\n",
        "else:\n",
        "  print(\"Accept the null hypothesis\")\n"
      ],
      "metadata": {
        "colab": {
          "base_uri": "https://localhost:8080/"
        },
        "id": "Zd3xxksV-jiN",
        "outputId": "a61f82e3-2b92-4a1b-e9d8-7a034c5dcdf4"
      },
      "execution_count": 4,
      "outputs": [
        {
          "output_type": "stream",
          "name": "stdout",
          "text": [
            "Accept the null hypothesis\n"
          ]
        }
      ]
    },
    {
      "cell_type": "markdown",
      "source": [
        "### 5.Conclusion\n"
      ],
      "metadata": {
        "id": "nZxgG2AO-4SU"
      }
    },
    {
      "cell_type": "markdown",
      "source": [
        "Based on the decision in step4,conclude whether there is strong evidence to support the restaurant owners claim that the weekly operating costs are higher than the model suggests.\n",
        "\n",
        "\n",
        "There is no enough evidence to support the claim that the weekly operating costs are higher than the model suggests."
      ],
      "metadata": {
        "id": "qJTfe4nh-8xC"
      }
    },
    {
      "cell_type": "code",
      "source": [],
      "metadata": {
        "id": "ScV-PGN4_nbg"
      },
      "execution_count": null,
      "outputs": []
    }
  ]
}